{
 "cells": [
  {
   "cell_type": "code",
   "execution_count": 13,
   "metadata": {},
   "outputs": [
    {
     "name": "stdout",
     "output_type": "stream",
     "text": [
      "Once deleted, variables cannot be recovered. Proceed (y/[n])? y\n"
     ]
    }
   ],
   "source": [
    "%reset"
   ]
  },
  {
   "cell_type": "code",
   "execution_count": 14,
   "metadata": {},
   "outputs": [],
   "source": [
    "# image_no=15590\n",
    "# img,acceleration,steering=0,1,2\n",
    "# train[image_no][img]\n",
    "import torch.nn as nn\n",
    "import torch.nn.functional as F\n",
    "import torch\n",
    "import torchvision\n",
    "import torchvision.transforms as transforms\n",
    "import numpy as np\n",
    "import matplotlib.pyplot as plt\n",
    "import torch.optim as optim\n",
    "from skimage import color"
   ]
  },
  {
   "cell_type": "markdown",
   "metadata": {},
   "source": [
    "#### Extract data"
   ]
  },
  {
   "cell_type": "code",
   "execution_count": 42,
   "metadata": {},
   "outputs": [
    {
     "name": "stdout",
     "output_type": "stream",
     "text": [
      "(6700, 3)\n",
      "(8100, 3)\n",
      "(6700, 3)\n",
      "(8100, 3)\n"
     ]
    }
   ],
   "source": [
    "data_1=np.load(\"set_1/preprocessed/preprocessed_clock_1.npz\",allow_pickle=True)\n",
    "data_2=np.load(\"set_1/preprocessed/preprocessed_clock_2.npz\",allow_pickle=True)\n",
    "data_3=np.load(\"set_1/preprocessed/preprocessed_anticlock_1.npz\",allow_pickle=True)\n",
    "data_4=np.load(\"set_1/preprocessed/preprocessed_anticlock_2.npz\",allow_pickle=True)\n",
    "train_1=data_1[\"arr_0\"]\n",
    "train_2=data_2[\"arr_0\"]\n",
    "train_3=data_3[\"arr_0\"]\n",
    "train_4=data_4[\"arr_0\"]\n",
    "print(train_1.shape)\n",
    "print(train_2.shape)\n",
    "print(train_3.shape)\n",
    "print(train_4.shape)\n",
    "all_data=np.concatenate((train_1,train_2, train_3, train_4), axis = 0)\n",
    "np.random.shuffle(all_data)\n",
    "train,test = all_data[0:int(all_data.shape[0]*0.80)],all_data[int(all_data.shape[0]*0.80):all_data.shape[0]]"
   ]
  },
  {
   "cell_type": "markdown",
   "metadata": {},
   "source": [
    "#### Single Sample"
   ]
  },
  {
   "cell_type": "code",
   "execution_count": 43,
   "metadata": {},
   "outputs": [
    {
     "data": {
      "image/png": "[encoded data removed]",
      "text/plain": [
       "<Figure size 216x216 with 1 Axes>"
      ]
     },
     "metadata": {
      "needs_background": "light"
     },
     "output_type": "display_data"
    }
   ],
   "source": [
    "sample=torch.tensor(color.rgb2gray(train[0][0]))\n",
    "# sample.reshape((1,224,224)).shape ## check shape\n",
    "plt.figure(figsize=(3,3))\n",
    "plt.imshow(sample,cmap='gray')\n",
    "img_shape=sample.shape"
   ]
  },
  {
   "cell_type": "markdown",
   "metadata": {},
   "source": [
    "#### Compile to pytorch format"
   ]
  },
  {
   "cell_type": "code",
   "execution_count": 44,
   "metadata": {},
   "outputs": [],
   "source": [
    "train_data=[]\n",
    "test_data=[]\n",
    "for val in train:\n",
    "    gray=torch.tensor(color.rgb2gray(val[0])).unsqueeze(1)\n",
    "    tup=(gray,torch.tensor(val[2]))\n",
    "    train_data.append(tup)\n",
    "    \n",
    "for val_1 in test:\n",
    "    gray=torch.tensor(color.rgb2gray(val_1[0])).unsqueeze(1)\n",
    "    tup=(gray,torch.tensor(val_1[2]))\n",
    "    test_data.append(tup)\n",
    "## wrap around data loaders"
   ]
  },
  {
   "cell_type": "code",
   "execution_count": 45,
   "metadata": {},
   "outputs": [],
   "source": [
    "torch.save(train_data, 'set_1_train.pt')\n",
    "torch.save(test_data, 'set_1_test.pt')"
   ]
  },
  {
   "cell_type": "markdown",
   "metadata": {},
   "source": [
    "# Start here"
   ]
  },
  {
   "cell_type": "code",
   "execution_count": 15,
   "metadata": {},
   "outputs": [],
   "source": [
    "train_data=torch.load(\"set_1_train.pt\")\n",
    "test_data=torch.load(\"set_1_test.pt\")"
   ]
  },
  {
   "cell_type": "code",
   "execution_count": null,
   "metadata": {},
   "outputs": [
    {
     "ename": "KeyboardInterrupt",
     "evalue": "",
     "output_type": "error",
     "traceback": [
      "\u001b[1;31m---------------------------------------------------------------------------\u001b[0m",
      "\u001b[1;31mKeyboardInterrupt\u001b[0m                         Traceback (most recent call last)",
      "\u001b[1;32m<ipython-input-188-de93a469e5b4>\u001b[0m in \u001b[0;36m<module>\u001b[1;34m\u001b[0m\n\u001b[0;32m      3\u001b[0m \u001b[1;32mfor\u001b[0m \u001b[0mval\u001b[0m \u001b[1;32min\u001b[0m \u001b[0mrange\u001b[0m\u001b[1;33m(\u001b[0m\u001b[0mlen\u001b[0m\u001b[1;33m(\u001b[0m\u001b[0mdata\u001b[0m\u001b[1;33m)\u001b[0m\u001b[1;33m)\u001b[0m\u001b[1;33m:\u001b[0m\u001b[1;33m\u001b[0m\u001b[0m\n\u001b[0;32m      4\u001b[0m     \u001b[0mliss\u001b[0m\u001b[1;33m.\u001b[0m\u001b[0mappend\u001b[0m\u001b[1;33m(\u001b[0m\u001b[0mtrain_data\u001b[0m\u001b[1;33m[\u001b[0m\u001b[0mval\u001b[0m\u001b[1;33m]\u001b[0m\u001b[1;33m[\u001b[0m\u001b[1;36m1\u001b[0m\u001b[1;33m]\u001b[0m\u001b[1;33m)\u001b[0m\u001b[1;33m\u001b[0m\u001b[0m\n\u001b[1;32m----> 5\u001b[1;33m \u001b[0mplt\u001b[0m\u001b[1;33m.\u001b[0m\u001b[0mhist\u001b[0m\u001b[1;33m(\u001b[0m\u001b[0mliss\u001b[0m\u001b[1;33m,\u001b[0m \u001b[0mbins\u001b[0m\u001b[1;33m=\u001b[0m\u001b[1;36m10\u001b[0m\u001b[1;33m)\u001b[0m\u001b[1;33m\u001b[0m\u001b[0m\n\u001b[0m\u001b[0;32m      6\u001b[0m \u001b[0mplt\u001b[0m\u001b[1;33m.\u001b[0m\u001b[0mshow\u001b[0m\u001b[1;33m(\u001b[0m\u001b[1;33m)\u001b[0m\u001b[1;33m\u001b[0m\u001b[0m\n\u001b[0;32m      7\u001b[0m \u001b[0mprint\u001b[0m\u001b[1;33m(\u001b[0m\u001b[0mliss\u001b[0m\u001b[1;33m)\u001b[0m\u001b[1;33m\u001b[0m\u001b[0m\n",
      "\u001b[1;32m~\\AppData\\Roaming\\Python\\Python36\\site-packages\\matplotlib\\pyplot.py\u001b[0m in \u001b[0;36mhist\u001b[1;34m(x, bins, range, density, weights, cumulative, bottom, histtype, align, orientation, rwidth, log, color, label, stacked, data, **kwargs)\u001b[0m\n\u001b[0;32m   2672\u001b[0m         \u001b[0malign\u001b[0m\u001b[1;33m=\u001b[0m\u001b[0malign\u001b[0m\u001b[1;33m,\u001b[0m \u001b[0morientation\u001b[0m\u001b[1;33m=\u001b[0m\u001b[0morientation\u001b[0m\u001b[1;33m,\u001b[0m \u001b[0mrwidth\u001b[0m\u001b[1;33m=\u001b[0m\u001b[0mrwidth\u001b[0m\u001b[1;33m,\u001b[0m \u001b[0mlog\u001b[0m\u001b[1;33m=\u001b[0m\u001b[0mlog\u001b[0m\u001b[1;33m,\u001b[0m\u001b[1;33m\u001b[0m\u001b[0m\n\u001b[0;32m   2673\u001b[0m         \u001b[0mcolor\u001b[0m\u001b[1;33m=\u001b[0m\u001b[0mcolor\u001b[0m\u001b[1;33m,\u001b[0m \u001b[0mlabel\u001b[0m\u001b[1;33m=\u001b[0m\u001b[0mlabel\u001b[0m\u001b[1;33m,\u001b[0m \u001b[0mstacked\u001b[0m\u001b[1;33m=\u001b[0m\u001b[0mstacked\u001b[0m\u001b[1;33m,\u001b[0m\u001b[1;33m\u001b[0m\u001b[0m\n\u001b[1;32m-> 2674\u001b[1;33m         **({\"data\": data} if data is not None else {}), **kwargs)\n\u001b[0m\u001b[0;32m   2675\u001b[0m \u001b[1;33m\u001b[0m\u001b[0m\n\u001b[0;32m   2676\u001b[0m \u001b[1;33m\u001b[0m\u001b[0m\n",
      "\u001b[1;32m~\\AppData\\Roaming\\Python\\Python36\\site-packages\\matplotlib\\__init__.py\u001b[0m in \u001b[0;36minner\u001b[1;34m(ax, data, *args, **kwargs)\u001b[0m\n\u001b[0;32m   1436\u001b[0m     \u001b[1;32mdef\u001b[0m \u001b[0minner\u001b[0m\u001b[1;33m(\u001b[0m\u001b[0max\u001b[0m\u001b[1;33m,\u001b[0m \u001b[1;33m*\u001b[0m\u001b[0margs\u001b[0m\u001b[1;33m,\u001b[0m \u001b[0mdata\u001b[0m\u001b[1;33m=\u001b[0m\u001b[1;32mNone\u001b[0m\u001b[1;33m,\u001b[0m \u001b[1;33m**\u001b[0m\u001b[0mkwargs\u001b[0m\u001b[1;33m)\u001b[0m\u001b[1;33m:\u001b[0m\u001b[1;33m\u001b[0m\u001b[0m\n\u001b[0;32m   1437\u001b[0m         \u001b[1;32mif\u001b[0m \u001b[0mdata\u001b[0m \u001b[1;32mis\u001b[0m \u001b[1;32mNone\u001b[0m\u001b[1;33m:\u001b[0m\u001b[1;33m\u001b[0m\u001b[0m\n\u001b[1;32m-> 1438\u001b[1;33m             \u001b[1;32mreturn\u001b[0m \u001b[0mfunc\u001b[0m\u001b[1;33m(\u001b[0m\u001b[0max\u001b[0m\u001b[1;33m,\u001b[0m \u001b[1;33m*\u001b[0m\u001b[0mmap\u001b[0m\u001b[1;33m(\u001b[0m\u001b[0msanitize_sequence\u001b[0m\u001b[1;33m,\u001b[0m \u001b[0margs\u001b[0m\u001b[1;33m)\u001b[0m\u001b[1;33m,\u001b[0m \u001b[1;33m**\u001b[0m\u001b[0mkwargs\u001b[0m\u001b[1;33m)\u001b[0m\u001b[1;33m\u001b[0m\u001b[0m\n\u001b[0m\u001b[0;32m   1439\u001b[0m \u001b[1;33m\u001b[0m\u001b[0m\n\u001b[0;32m   1440\u001b[0m         \u001b[0mbound\u001b[0m \u001b[1;33m=\u001b[0m \u001b[0mnew_sig\u001b[0m\u001b[1;33m.\u001b[0m\u001b[0mbind\u001b[0m\u001b[1;33m(\u001b[0m\u001b[0max\u001b[0m\u001b[1;33m,\u001b[0m \u001b[1;33m*\u001b[0m\u001b[0margs\u001b[0m\u001b[1;33m,\u001b[0m \u001b[1;33m**\u001b[0m\u001b[0mkwargs\u001b[0m\u001b[1;33m)\u001b[0m\u001b[1;33m\u001b[0m\u001b[0m\n",
      "\u001b[1;32m~\\AppData\\Roaming\\Python\\Python36\\site-packages\\matplotlib\\axes\\_axes.py\u001b[0m in \u001b[0;36mhist\u001b[1;34m(self, x, bins, range, density, weights, cumulative, bottom, histtype, align, orientation, rwidth, log, color, label, stacked, **kwargs)\u001b[0m\n\u001b[0;32m   6715\u001b[0m                 patch = _barfunc(bins[:-1]+boffset, height, width,\n\u001b[0;32m   6716\u001b[0m                                  \u001b[0malign\u001b[0m\u001b[1;33m=\u001b[0m\u001b[1;34m'center'\u001b[0m\u001b[1;33m,\u001b[0m \u001b[0mlog\u001b[0m\u001b[1;33m=\u001b[0m\u001b[0mlog\u001b[0m\u001b[1;33m,\u001b[0m\u001b[1;33m\u001b[0m\u001b[0m\n\u001b[1;32m-> 6717\u001b[1;33m                                  color=c, **{bottom_kwarg: bottom})\n\u001b[0m\u001b[0;32m   6718\u001b[0m                 \u001b[0mpatches\u001b[0m\u001b[1;33m.\u001b[0m\u001b[0mappend\u001b[0m\u001b[1;33m(\u001b[0m\u001b[0mpatch\u001b[0m\u001b[1;33m)\u001b[0m\u001b[1;33m\u001b[0m\u001b[0m\n\u001b[0;32m   6719\u001b[0m                 \u001b[1;32mif\u001b[0m \u001b[0mstacked\u001b[0m\u001b[1;33m:\u001b[0m\u001b[1;33m\u001b[0m\u001b[0m\n",
      "\u001b[1;32m~\\AppData\\Roaming\\Python\\Python36\\site-packages\\matplotlib\\__init__.py\u001b[0m in \u001b[0;36minner\u001b[1;34m(ax, data, *args, **kwargs)\u001b[0m\n\u001b[0;32m   1436\u001b[0m     \u001b[1;32mdef\u001b[0m \u001b[0minner\u001b[0m\u001b[1;33m(\u001b[0m\u001b[0max\u001b[0m\u001b[1;33m,\u001b[0m \u001b[1;33m*\u001b[0m\u001b[0margs\u001b[0m\u001b[1;33m,\u001b[0m \u001b[0mdata\u001b[0m\u001b[1;33m=\u001b[0m\u001b[1;32mNone\u001b[0m\u001b[1;33m,\u001b[0m \u001b[1;33m**\u001b[0m\u001b[0mkwargs\u001b[0m\u001b[1;33m)\u001b[0m\u001b[1;33m:\u001b[0m\u001b[1;33m\u001b[0m\u001b[0m\n\u001b[0;32m   1437\u001b[0m         \u001b[1;32mif\u001b[0m \u001b[0mdata\u001b[0m \u001b[1;32mis\u001b[0m \u001b[1;32mNone\u001b[0m\u001b[1;33m:\u001b[0m\u001b[1;33m\u001b[0m\u001b[0m\n\u001b[1;32m-> 1438\u001b[1;33m             \u001b[1;32mreturn\u001b[0m \u001b[0mfunc\u001b[0m\u001b[1;33m(\u001b[0m\u001b[0max\u001b[0m\u001b[1;33m,\u001b[0m \u001b[1;33m*\u001b[0m\u001b[0mmap\u001b[0m\u001b[1;33m(\u001b[0m\u001b[0msanitize_sequence\u001b[0m\u001b[1;33m,\u001b[0m \u001b[0margs\u001b[0m\u001b[1;33m)\u001b[0m\u001b[1;33m,\u001b[0m \u001b[1;33m**\u001b[0m\u001b[0mkwargs\u001b[0m\u001b[1;33m)\u001b[0m\u001b[1;33m\u001b[0m\u001b[0m\n\u001b[0m\u001b[0;32m   1439\u001b[0m \u001b[1;33m\u001b[0m\u001b[0m\n\u001b[0;32m   1440\u001b[0m         \u001b[0mbound\u001b[0m \u001b[1;33m=\u001b[0m \u001b[0mnew_sig\u001b[0m\u001b[1;33m.\u001b[0m\u001b[0mbind\u001b[0m\u001b[1;33m(\u001b[0m\u001b[0max\u001b[0m\u001b[1;33m,\u001b[0m \u001b[1;33m*\u001b[0m\u001b[0margs\u001b[0m\u001b[1;33m,\u001b[0m \u001b[1;33m**\u001b[0m\u001b[0mkwargs\u001b[0m\u001b[1;33m)\u001b[0m\u001b[1;33m\u001b[0m\u001b[0m\n",
      "\u001b[1;32m~\\AppData\\Roaming\\Python\\Python36\\site-packages\\matplotlib\\axes\\_axes.py\u001b[0m in \u001b[0;36mbar\u001b[1;34m(self, x, height, width, bottom, align, **kwargs)\u001b[0m\n\u001b[0;32m   2492\u001b[0m             \u001b[1;32melif\u001b[0m \u001b[0morientation\u001b[0m \u001b[1;33m==\u001b[0m \u001b[1;34m'horizontal'\u001b[0m\u001b[1;33m:\u001b[0m\u001b[1;33m\u001b[0m\u001b[0m\n\u001b[0;32m   2493\u001b[0m                 \u001b[0mr\u001b[0m\u001b[1;33m.\u001b[0m\u001b[0msticky_edges\u001b[0m\u001b[1;33m.\u001b[0m\u001b[0mx\u001b[0m\u001b[1;33m.\u001b[0m\u001b[0mappend\u001b[0m\u001b[1;33m(\u001b[0m\u001b[0ml\u001b[0m\u001b[1;33m)\u001b[0m\u001b[1;33m\u001b[0m\u001b[0m\n\u001b[1;32m-> 2494\u001b[1;33m             \u001b[0mself\u001b[0m\u001b[1;33m.\u001b[0m\u001b[0madd_patch\u001b[0m\u001b[1;33m(\u001b[0m\u001b[0mr\u001b[0m\u001b[1;33m)\u001b[0m\u001b[1;33m\u001b[0m\u001b[0m\n\u001b[0m\u001b[0;32m   2495\u001b[0m             \u001b[0mpatches\u001b[0m\u001b[1;33m.\u001b[0m\u001b[0mappend\u001b[0m\u001b[1;33m(\u001b[0m\u001b[0mr\u001b[0m\u001b[1;33m)\u001b[0m\u001b[1;33m\u001b[0m\u001b[0m\n\u001b[0;32m   2496\u001b[0m \u001b[1;33m\u001b[0m\u001b[0m\n",
      "\u001b[1;32m~\\AppData\\Roaming\\Python\\Python36\\site-packages\\matplotlib\\axes\\_base.py\u001b[0m in \u001b[0;36madd_patch\u001b[1;34m(self, p)\u001b[0m\n\u001b[0;32m   2035\u001b[0m         \u001b[0mself\u001b[0m\u001b[1;33m.\u001b[0m\u001b[0m_set_artist_props\u001b[0m\u001b[1;33m(\u001b[0m\u001b[0mp\u001b[0m\u001b[1;33m)\u001b[0m\u001b[1;33m\u001b[0m\u001b[0m\n\u001b[0;32m   2036\u001b[0m         \u001b[1;32mif\u001b[0m \u001b[0mp\u001b[0m\u001b[1;33m.\u001b[0m\u001b[0mget_clip_path\u001b[0m\u001b[1;33m(\u001b[0m\u001b[1;33m)\u001b[0m \u001b[1;32mis\u001b[0m \u001b[1;32mNone\u001b[0m\u001b[1;33m:\u001b[0m\u001b[1;33m\u001b[0m\u001b[0m\n\u001b[1;32m-> 2037\u001b[1;33m             \u001b[0mp\u001b[0m\u001b[1;33m.\u001b[0m\u001b[0mset_clip_path\u001b[0m\u001b[1;33m(\u001b[0m\u001b[0mself\u001b[0m\u001b[1;33m.\u001b[0m\u001b[0mpatch\u001b[0m\u001b[1;33m)\u001b[0m\u001b[1;33m\u001b[0m\u001b[0m\n\u001b[0m\u001b[0;32m   2038\u001b[0m         \u001b[0mself\u001b[0m\u001b[1;33m.\u001b[0m\u001b[0m_update_patch_limits\u001b[0m\u001b[1;33m(\u001b[0m\u001b[0mp\u001b[0m\u001b[1;33m)\u001b[0m\u001b[1;33m\u001b[0m\u001b[0m\n\u001b[0;32m   2039\u001b[0m         \u001b[0mself\u001b[0m\u001b[1;33m.\u001b[0m\u001b[0mpatches\u001b[0m\u001b[1;33m.\u001b[0m\u001b[0mappend\u001b[0m\u001b[1;33m(\u001b[0m\u001b[0mp\u001b[0m\u001b[1;33m)\u001b[0m\u001b[1;33m\u001b[0m\u001b[0m\n",
      "\u001b[1;32m~\\AppData\\Roaming\\Python\\Python36\\site-packages\\matplotlib\\artist.py\u001b[0m in \u001b[0;36mset_clip_path\u001b[1;34m(self, path, transform)\u001b[0m\n\u001b[0;32m    752\u001b[0m             \u001b[1;32mif\u001b[0m \u001b[0misinstance\u001b[0m\u001b[1;33m(\u001b[0m\u001b[0mpath\u001b[0m\u001b[1;33m,\u001b[0m \u001b[0mRectangle\u001b[0m\u001b[1;33m)\u001b[0m\u001b[1;33m:\u001b[0m\u001b[1;33m\u001b[0m\u001b[0m\n\u001b[0;32m    753\u001b[0m                 self.clipbox = TransformedBbox(Bbox.unit(),\n\u001b[1;32m--> 754\u001b[1;33m                                                path.get_transform())\n\u001b[0m\u001b[0;32m    755\u001b[0m                 \u001b[0mself\u001b[0m\u001b[1;33m.\u001b[0m\u001b[0m_clippath\u001b[0m \u001b[1;33m=\u001b[0m \u001b[1;32mNone\u001b[0m\u001b[1;33m\u001b[0m\u001b[0m\n\u001b[0;32m    756\u001b[0m                 \u001b[0msuccess\u001b[0m \u001b[1;33m=\u001b[0m \u001b[1;32mTrue\u001b[0m\u001b[1;33m\u001b[0m\u001b[0m\n",
      "\u001b[1;32m~\\AppData\\Roaming\\Python\\Python36\\site-packages\\matplotlib\\patches.py\u001b[0m in \u001b[0;36mget_transform\u001b[1;34m(self)\u001b[0m\n\u001b[0;32m    258\u001b[0m     \u001b[1;32mdef\u001b[0m \u001b[0mget_transform\u001b[0m\u001b[1;33m(\u001b[0m\u001b[0mself\u001b[0m\u001b[1;33m)\u001b[0m\u001b[1;33m:\u001b[0m\u001b[1;33m\u001b[0m\u001b[0m\n\u001b[0;32m    259\u001b[0m         \u001b[1;34m\"\"\"Return the `~.transforms.Transform` applied to the `Patch`.\"\"\"\u001b[0m\u001b[1;33m\u001b[0m\u001b[0m\n\u001b[1;32m--> 260\u001b[1;33m         \u001b[1;32mreturn\u001b[0m \u001b[0mself\u001b[0m\u001b[1;33m.\u001b[0m\u001b[0mget_patch_transform\u001b[0m\u001b[1;33m(\u001b[0m\u001b[1;33m)\u001b[0m \u001b[1;33m+\u001b[0m \u001b[0martist\u001b[0m\u001b[1;33m.\u001b[0m\u001b[0mArtist\u001b[0m\u001b[1;33m.\u001b[0m\u001b[0mget_transform\u001b[0m\u001b[1;33m(\u001b[0m\u001b[0mself\u001b[0m\u001b[1;33m)\u001b[0m\u001b[1;33m\u001b[0m\u001b[0m\n\u001b[0m\u001b[0;32m    261\u001b[0m \u001b[1;33m\u001b[0m\u001b[0m\n\u001b[0;32m    262\u001b[0m     \u001b[1;32mdef\u001b[0m \u001b[0mget_data_transform\u001b[0m\u001b[1;33m(\u001b[0m\u001b[0mself\u001b[0m\u001b[1;33m)\u001b[0m\u001b[1;33m:\u001b[0m\u001b[1;33m\u001b[0m\u001b[0m\n",
      "\u001b[1;32m~\\AppData\\Roaming\\Python\\Python36\\site-packages\\matplotlib\\patches.py\u001b[0m in \u001b[0;36mget_patch_transform\u001b[1;34m(self)\u001b[0m\n\u001b[0;32m    790\u001b[0m \u001b[1;33m\u001b[0m\u001b[0m\n\u001b[0;32m    791\u001b[0m     \u001b[1;32mdef\u001b[0m \u001b[0mget_patch_transform\u001b[0m\u001b[1;33m(\u001b[0m\u001b[0mself\u001b[0m\u001b[1;33m)\u001b[0m\u001b[1;33m:\u001b[0m\u001b[1;33m\u001b[0m\u001b[0m\n\u001b[1;32m--> 792\u001b[1;33m         \u001b[0mself\u001b[0m\u001b[1;33m.\u001b[0m\u001b[0m_update_patch_transform\u001b[0m\u001b[1;33m(\u001b[0m\u001b[1;33m)\u001b[0m\u001b[1;33m\u001b[0m\u001b[0m\n\u001b[0m\u001b[0;32m    793\u001b[0m         \u001b[1;32mreturn\u001b[0m \u001b[0mself\u001b[0m\u001b[1;33m.\u001b[0m\u001b[0m_rect_transform\u001b[0m\u001b[1;33m\u001b[0m\u001b[0m\n\u001b[0;32m    794\u001b[0m \u001b[1;33m\u001b[0m\u001b[0m\n",
      "\u001b[1;32m~\\AppData\\Roaming\\Python\\Python36\\site-packages\\matplotlib\\patches.py\u001b[0m in \u001b[0;36m_update_patch_transform\u001b[1;34m(self)\u001b[0m\n\u001b[0;32m    771\u001b[0m         \u001b[0mbbox\u001b[0m \u001b[1;33m=\u001b[0m \u001b[0mtransforms\u001b[0m\u001b[1;33m.\u001b[0m\u001b[0mBbox\u001b[0m\u001b[1;33m.\u001b[0m\u001b[0mfrom_extents\u001b[0m\u001b[1;33m(\u001b[0m\u001b[0mx0\u001b[0m\u001b[1;33m,\u001b[0m \u001b[0my0\u001b[0m\u001b[1;33m,\u001b[0m \u001b[0mx1\u001b[0m\u001b[1;33m,\u001b[0m \u001b[0my1\u001b[0m\u001b[1;33m)\u001b[0m\u001b[1;33m\u001b[0m\u001b[0m\n\u001b[0;32m    772\u001b[0m         \u001b[0mrot_trans\u001b[0m \u001b[1;33m=\u001b[0m \u001b[0mtransforms\u001b[0m\u001b[1;33m.\u001b[0m\u001b[0mAffine2D\u001b[0m\u001b[1;33m(\u001b[0m\u001b[1;33m)\u001b[0m\u001b[1;33m\u001b[0m\u001b[0m\n\u001b[1;32m--> 773\u001b[1;33m         \u001b[0mrot_trans\u001b[0m\u001b[1;33m.\u001b[0m\u001b[0mrotate_deg_around\u001b[0m\u001b[1;33m(\u001b[0m\u001b[0mx0\u001b[0m\u001b[1;33m,\u001b[0m \u001b[0my0\u001b[0m\u001b[1;33m,\u001b[0m \u001b[0mself\u001b[0m\u001b[1;33m.\u001b[0m\u001b[0mangle\u001b[0m\u001b[1;33m)\u001b[0m\u001b[1;33m\u001b[0m\u001b[0m\n\u001b[0m\u001b[0;32m    774\u001b[0m         \u001b[0mself\u001b[0m\u001b[1;33m.\u001b[0m\u001b[0m_rect_transform\u001b[0m \u001b[1;33m=\u001b[0m \u001b[0mtransforms\u001b[0m\u001b[1;33m.\u001b[0m\u001b[0mBboxTransformTo\u001b[0m\u001b[1;33m(\u001b[0m\u001b[0mbbox\u001b[0m\u001b[1;33m)\u001b[0m\u001b[1;33m\u001b[0m\u001b[0m\n\u001b[0;32m    775\u001b[0m         \u001b[0mself\u001b[0m\u001b[1;33m.\u001b[0m\u001b[0m_rect_transform\u001b[0m \u001b[1;33m+=\u001b[0m \u001b[0mrot_trans\u001b[0m\u001b[1;33m\u001b[0m\u001b[0m\n",
      "\u001b[1;32m~\\AppData\\Roaming\\Python\\Python36\\site-packages\\matplotlib\\transforms.py\u001b[0m in \u001b[0;36mrotate_deg_around\u001b[1;34m(self, x, y, degrees)\u001b[0m\n\u001b[0;32m   1965\u001b[0m         \u001b[1;31m# Cast to float to avoid wraparound issues with uint8's\u001b[0m\u001b[1;33m\u001b[0m\u001b[1;33m\u001b[0m\u001b[0m\n\u001b[0;32m   1966\u001b[0m         \u001b[0mx\u001b[0m\u001b[1;33m,\u001b[0m \u001b[0my\u001b[0m \u001b[1;33m=\u001b[0m \u001b[0mfloat\u001b[0m\u001b[1;33m(\u001b[0m\u001b[0mx\u001b[0m\u001b[1;33m)\u001b[0m\u001b[1;33m,\u001b[0m \u001b[0mfloat\u001b[0m\u001b[1;33m(\u001b[0m\u001b[0my\u001b[0m\u001b[1;33m)\u001b[0m\u001b[1;33m\u001b[0m\u001b[0m\n\u001b[1;32m-> 1967\u001b[1;33m         \u001b[1;32mreturn\u001b[0m \u001b[0mself\u001b[0m\u001b[1;33m.\u001b[0m\u001b[0mtranslate\u001b[0m\u001b[1;33m(\u001b[0m\u001b[1;33m-\u001b[0m\u001b[0mx\u001b[0m\u001b[1;33m,\u001b[0m \u001b[1;33m-\u001b[0m\u001b[0my\u001b[0m\u001b[1;33m)\u001b[0m\u001b[1;33m.\u001b[0m\u001b[0mrotate_deg\u001b[0m\u001b[1;33m(\u001b[0m\u001b[0mdegrees\u001b[0m\u001b[1;33m)\u001b[0m\u001b[1;33m.\u001b[0m\u001b[0mtranslate\u001b[0m\u001b[1;33m(\u001b[0m\u001b[0mx\u001b[0m\u001b[1;33m,\u001b[0m \u001b[0my\u001b[0m\u001b[1;33m)\u001b[0m\u001b[1;33m\u001b[0m\u001b[0m\n\u001b[0m\u001b[0;32m   1968\u001b[0m \u001b[1;33m\u001b[0m\u001b[0m\n\u001b[0;32m   1969\u001b[0m     \u001b[1;32mdef\u001b[0m \u001b[0mtranslate\u001b[0m\u001b[1;33m(\u001b[0m\u001b[0mself\u001b[0m\u001b[1;33m,\u001b[0m \u001b[0mtx\u001b[0m\u001b[1;33m,\u001b[0m \u001b[0mty\u001b[0m\u001b[1;33m)\u001b[0m\u001b[1;33m:\u001b[0m\u001b[1;33m\u001b[0m\u001b[0m\n",
      "\u001b[1;32m~\\AppData\\Roaming\\Python\\Python36\\site-packages\\matplotlib\\transforms.py\u001b[0m in \u001b[0;36mrotate_deg\u001b[1;34m(self, degrees)\u001b[0m\n\u001b[0;32m   1943\u001b[0m         \u001b[1;32mand\u001b[0m \u001b[1;33m:\u001b[0m\u001b[0mmeth\u001b[0m\u001b[1;33m:\u001b[0m\u001b[0;31m`\u001b[0m\u001b[0mscale\u001b[0m\u001b[0;31m`\u001b[0m\u001b[1;33m.\u001b[0m\u001b[1;33m\u001b[0m\u001b[0m\n\u001b[0;32m   1944\u001b[0m         \"\"\"\n\u001b[1;32m-> 1945\u001b[1;33m         \u001b[1;32mreturn\u001b[0m \u001b[0mself\u001b[0m\u001b[1;33m.\u001b[0m\u001b[0mrotate\u001b[0m\u001b[1;33m(\u001b[0m\u001b[0mmath\u001b[0m\u001b[1;33m.\u001b[0m\u001b[0mradians\u001b[0m\u001b[1;33m(\u001b[0m\u001b[0mdegrees\u001b[0m\u001b[1;33m)\u001b[0m\u001b[1;33m)\u001b[0m\u001b[1;33m\u001b[0m\u001b[0m\n\u001b[0m\u001b[0;32m   1946\u001b[0m \u001b[1;33m\u001b[0m\u001b[0m\n\u001b[0;32m   1947\u001b[0m     \u001b[1;32mdef\u001b[0m \u001b[0mrotate_around\u001b[0m\u001b[1;33m(\u001b[0m\u001b[0mself\u001b[0m\u001b[1;33m,\u001b[0m \u001b[0mx\u001b[0m\u001b[1;33m,\u001b[0m \u001b[0my\u001b[0m\u001b[1;33m,\u001b[0m \u001b[0mtheta\u001b[0m\u001b[1;33m)\u001b[0m\u001b[1;33m:\u001b[0m\u001b[1;33m\u001b[0m\u001b[0m\n",
      "\u001b[1;32m~\\AppData\\Roaming\\Python\\Python36\\site-packages\\matplotlib\\transforms.py\u001b[0m in \u001b[0;36mrotate\u001b[1;34m(self, theta)\u001b[0m\n\u001b[0;32m   1931\u001b[0m         rotate_mtx = np.array([[a, -b, 0.0], [b, a, 0.0], [0.0, 0.0, 1.0]],\n\u001b[0;32m   1932\u001b[0m                               float)\n\u001b[1;32m-> 1933\u001b[1;33m         \u001b[0mself\u001b[0m\u001b[1;33m.\u001b[0m\u001b[0m_mtx\u001b[0m \u001b[1;33m=\u001b[0m \u001b[0mnp\u001b[0m\u001b[1;33m.\u001b[0m\u001b[0mdot\u001b[0m\u001b[1;33m(\u001b[0m\u001b[0mrotate_mtx\u001b[0m\u001b[1;33m,\u001b[0m \u001b[0mself\u001b[0m\u001b[1;33m.\u001b[0m\u001b[0m_mtx\u001b[0m\u001b[1;33m)\u001b[0m\u001b[1;33m\u001b[0m\u001b[0m\n\u001b[0m\u001b[0;32m   1934\u001b[0m         \u001b[0mself\u001b[0m\u001b[1;33m.\u001b[0m\u001b[0minvalidate\u001b[0m\u001b[1;33m(\u001b[0m\u001b[1;33m)\u001b[0m\u001b[1;33m\u001b[0m\u001b[0m\n\u001b[0;32m   1935\u001b[0m         \u001b[1;32mreturn\u001b[0m \u001b[0mself\u001b[0m\u001b[1;33m\u001b[0m\u001b[0m\n",
      "\u001b[1;32m<__array_function__ internals>\u001b[0m in \u001b[0;36mdot\u001b[1;34m(*args, **kwargs)\u001b[0m\n",
      "\u001b[1;31mKeyboardInterrupt\u001b[0m: "
     ]
    },
    {
     "name": "stdout",
     "output_type": "stream",
     "text": [
      "Error in callback <function flush_figures at 0x0000018321DA2158> (for post_execute):\n"
     ]
    },
    {
     "name": "stderr",
     "output_type": "stream",
     "text": [
      "ERROR:root:Internal Python error in the inspect module.\n",
      "Below is the traceback from this internal error.\n",
      "\n"
     ]
    },
    {
     "name": "stdout",
     "output_type": "stream",
     "text": [
      "Traceback (most recent call last):\n",
      "  File \"c:\\users\\rishabh_ub\\appdata\\local\\programs\\python\\python36\\lib\\site-packages\\IPython\\core\\events.py\", line 88, in trigger\n",
      "    func(*args, **kwargs)\n",
      "  File \"c:\\users\\rishabh_ub\\appdata\\local\\programs\\python\\python36\\lib\\site-packages\\ipykernel\\pylab\\backend_inline.py\", line 121, in flush_figures\n",
      "    return show(True)\n",
      "  File \"c:\\users\\rishabh_ub\\appdata\\local\\programs\\python\\python36\\lib\\site-packages\\ipykernel\\pylab\\backend_inline.py\", line 43, in show\n",
      "    metadata=_fetch_figure_metadata(figure_manager.canvas.figure)\n",
      "  File \"c:\\users\\rishabh_ub\\appdata\\local\\programs\\python\\python36\\lib\\site-packages\\IPython\\core\\display.py\", line 313, in display\n",
      "    format_dict, md_dict = format(obj, include=include, exclude=exclude)\n",
      "  File \"c:\\users\\rishabh_ub\\appdata\\local\\programs\\python\\python36\\lib\\site-packages\\IPython\\core\\formatters.py\", line 180, in format\n",
      "    data = formatter(obj)\n",
      "  File \"<decorator-gen-9>\", line 2, in __call__\n",
      "  File \"c:\\users\\rishabh_ub\\appdata\\local\\programs\\python\\python36\\lib\\site-packages\\IPython\\core\\formatters.py\", line 224, in catch_format_error\n",
      "    r = method(self, *args, **kwargs)\n",
      "  File \"c:\\users\\rishabh_ub\\appdata\\local\\programs\\python\\python36\\lib\\site-packages\\IPython\\core\\formatters.py\", line 341, in __call__\n",
      "    return printer(obj)\n",
      "  File \"c:\\users\\rishabh_ub\\appdata\\local\\programs\\python\\python36\\lib\\site-packages\\IPython\\core\\pylabtools.py\", line 248, in <lambda>\n",
      "    png_formatter.for_type(Figure, lambda fig: print_figure(fig, 'png', **kwargs))\n",
      "  File \"c:\\users\\rishabh_ub\\appdata\\local\\programs\\python\\python36\\lib\\site-packages\\IPython\\core\\pylabtools.py\", line 132, in print_figure\n",
      "    fig.canvas.print_figure(bytes_io, **kw)\n",
      "  File \"C:\\Users\\Rishabh_UB\\AppData\\Roaming\\Python\\Python36\\site-packages\\matplotlib\\backend_bases.py\", line 2196, in print_figure\n",
      "    renderer, bbox_extra_artists=bbox_extra_artists)\n",
      "  File \"C:\\Users\\Rishabh_UB\\AppData\\Roaming\\Python\\Python36\\site-packages\\matplotlib\\figure.py\", line 2516, in get_tightbbox\n",
      "    renderer, bbox_extra_artists=bbox_extra_artists)\n",
      "  File \"C:\\Users\\Rishabh_UB\\AppData\\Roaming\\Python\\Python36\\site-packages\\matplotlib\\axes\\_base.py\", line 4198, in get_tightbbox\n",
      "    clip_extent, axbbox)\n",
      "  File \"C:\\Users\\Rishabh_UB\\AppData\\Roaming\\Python\\Python36\\site-packages\\matplotlib\\transforms.py\", line 680, in intersection\n",
      "    y0 = np.maximum(bbox1.ymin, bbox2.ymin)\n",
      "  File \"C:\\Users\\Rishabh_UB\\AppData\\Roaming\\Python\\Python36\\site-packages\\matplotlib\\transforms.py\", line 317, in ymin\n",
      "    return np.min(self.get_points()[:, 1])\n",
      "  File \"<__array_function__ internals>\", line 6, in amin\n",
      "  File \"c:\\users\\rishabh_ub\\appdata\\local\\programs\\python\\python36\\lib\\site-packages\\numpy\\core\\fromnumeric.py\", line 2831, in amin\n",
      "    keepdims=keepdims, initial=initial, where=where)\n",
      "  File \"c:\\users\\rishabh_ub\\appdata\\local\\programs\\python\\python36\\lib\\site-packages\\numpy\\core\\fromnumeric.py\", line 87, in _wrapreduction\n",
      "    return ufunc.reduce(obj, axis, dtype, out, **passkwargs)\n",
      "KeyboardInterrupt\n",
      "\n",
      "During handling of the above exception, another exception occurred:\n",
      "\n",
      "Traceback (most recent call last):\n",
      "  File \"c:\\users\\rishabh_ub\\appdata\\local\\programs\\python\\python36\\lib\\site-packages\\IPython\\core\\interactiveshell.py\", line 2044, in showtraceback\n",
      "    stb = value._render_traceback_()\n",
      "AttributeError: 'KeyboardInterrupt' object has no attribute '_render_traceback_'\n",
      "\n",
      "During handling of the above exception, another exception occurred:\n",
      "\n",
      "Traceback (most recent call last):\n",
      "  File \"c:\\users\\rishabh_ub\\appdata\\local\\programs\\python\\python36\\lib\\site-packages\\IPython\\core\\ultratb.py\", line 1169, in get_records\n",
      "    return _fixed_getinnerframes(etb, number_of_lines_of_context, tb_offset)\n",
      "  File \"c:\\users\\rishabh_ub\\appdata\\local\\programs\\python\\python36\\lib\\site-packages\\IPython\\core\\ultratb.py\", line 316, in wrapped\n",
      "    return f(*args, **kwargs)\n",
      "  File \"c:\\users\\rishabh_ub\\appdata\\local\\programs\\python\\python36\\lib\\site-packages\\IPython\\core\\ultratb.py\", line 350, in _fixed_getinnerframes\n",
      "    records = fix_frame_records_filenames(inspect.getinnerframes(etb, context))\n",
      "  File \"c:\\users\\rishabh_ub\\appdata\\local\\programs\\python\\python36\\lib\\inspect.py\", line 1453, in getinnerframes\n",
      "    frameinfo = (tb.tb_frame,) + getframeinfo(tb, context)\n",
      "  File \"c:\\users\\rishabh_ub\\appdata\\local\\programs\\python\\python36\\lib\\inspect.py\", line 1415, in getframeinfo\n",
      "    lines, lnum = findsource(frame)\n",
      "  File \"c:\\users\\rishabh_ub\\appdata\\local\\programs\\python\\python36\\lib\\site-packages\\IPython\\core\\ultratb.py\", line 182, in findsource\n",
      "    lines = linecache.getlines(file, globals_dict)\n",
      "  File \"c:\\users\\rishabh_ub\\appdata\\local\\programs\\python\\python36\\lib\\linecache.py\", line 47, in getlines\n",
      "    return updatecache(filename, module_globals)\n",
      "  File \"c:\\users\\rishabh_ub\\appdata\\local\\programs\\python\\python36\\lib\\linecache.py\", line 137, in updatecache\n",
      "    lines = fp.readlines()\n",
      "  File \"c:\\users\\rishabh_ub\\appdata\\local\\programs\\python\\python36\\lib\\codecs.py\", line 318, in decode\n",
      "    def decode(self, input, final=False):\n",
      "KeyboardInterrupt\n"
     ]
    }
   ],
   "source": [
    "data=train_data\n",
    "liss=[]\n",
    "for val in range(len(data)):\n",
    "    liss.append(train_data[val][1])\n",
    "plt.hist(liss, bins=10)\n",
    "plt.show()\n"
   ]
  },
  {
   "cell_type": "code",
   "execution_count": null,
   "metadata": {},
   "outputs": [],
   "source": [
    "print(liss)"
   ]
  },
  {
   "cell_type": "code",
   "execution_count": 16,
   "metadata": {},
   "outputs": [],
   "source": [
    "train_d_loader=torch.utils.data.DataLoader(train_data, batch_size=1000, shuffle=True)\n",
    "test_d_loader=torch.utils.data.DataLoader(test_data, batch_size=1000, shuffle=True)"
   ]
  },
  {
   "cell_type": "code",
   "execution_count": null,
   "metadata": {},
   "outputs": [],
   "source": [
    "test_batch=next(iter(test_d_loader))\n",
    "t_image,t_label=test_batch\n",
    "print(t_label)"
   ]
  },
  {
   "cell_type": "markdown",
   "metadata": {},
   "source": [
    "#### Single batch"
   ]
  },
  {
   "cell_type": "code",
   "execution_count": 47,
   "metadata": {},
   "outputs": [],
   "source": [
    "batch=next(iter(train_d_loader))\n",
    "images,labels=batch\n",
    "images=images.reshape(1000,1,images.shape[3],images.shape[3])\n",
    "img_shape=images[0][0].shape\n",
    "sample,sample_l=images[0][0],labels[0]\n",
    "grid=torchvision.utils.make_grid(images,nrow=10)\n",
    "# plt.figure(figsize=(15,15))\n",
    "# plt.imshow(np.transpose(grid,(1,2,0)))\n",
    "# print(\"Label\")"
   ]
  },
  {
   "cell_type": "markdown",
   "metadata": {},
   "source": [
    "#### Model"
   ]
  },
  {
   "cell_type": "code",
   "execution_count": 48,
   "metadata": {},
   "outputs": [],
   "source": [
    "def get_num_correct(preds, labels):\n",
    "    return preds.argmax(dim=1).eq(labels).sum().item()\n",
    "\n",
    "class Network(nn.Module):\n",
    "    def __init__(self):\n",
    "        super().__init__()\n",
    "        self.norm = nn.LayerNorm(normalized_shape=img_shape)\n",
    "        self.conv1 = nn.Conv2d(in_channels=1, out_channels=24, kernel_size=3,stride=2)\n",
    "        self.conv2 = nn.Conv2d(in_channels=24, out_channels=36, kernel_size=3,stride=1)\n",
    "        self.conv3 = nn.Conv2d(in_channels=36, out_channels=48, kernel_size=3,stride=1)\n",
    "        self.conv4 = nn.Conv2d(in_channels=48, out_channels=64, kernel_size=3)\n",
    "#         self.conv5 = nn.Conv2d(in_channels=64, out_channels=64, kernel_size=3)\n",
    "        self.drop=nn.Dropout(0.5)\n",
    "\n",
    "        self.fc1 = nn.Linear(in_features=64*5*5, out_features=1000)\n",
    "        self.fc2 = nn.Linear(in_features=1000, out_features=500)\n",
    "        self.fc3 = nn.Linear(in_features=500, out_features=100)\n",
    "        self.fc4 = nn.Linear(in_features=100, out_features=10)\n",
    "        self.out = nn.Linear(in_features=10, out_features=1)\n",
    "\n",
    "    def forward(self, t):\n",
    "        self.nnor=t\n",
    "        t=self.norm(t.float())\n",
    "        self.nor=t\n",
    "        \n",
    "        t = F.elu(self.conv1(t.float()))\n",
    "        t = F.max_pool2d(t, kernel_size=2)\n",
    "        \n",
    "        t = F.elu(self.conv2(t))\n",
    "        t = F.max_pool2d(t, kernel_size=2)\n",
    "        \n",
    "        \n",
    "        t = F.elu(self.conv3(t))\n",
    "        t = F.max_pool2d(t, kernel_size=2)\n",
    "\n",
    "\n",
    "        t = F.elu(self.conv4(t))\n",
    "        t = F.max_pool2d(t, kernel_size=2)\n",
    "#         t = F.elu(self.conv5(t))\n",
    "#         t = F.max_pool2d(t, kernel_size=2)\n",
    "        self.t=t\n",
    "#         print(t.shape)\n",
    "        \n",
    "#         t=self.drop(t)\n",
    "        t=t.reshape(-1,t.shape[1]*t.shape[2]*t.shape[3])\n",
    "        t=F.elu(self.fc1(t))\n",
    "        t=F.elu(self.fc2(t))\n",
    "        t=F.elu(self.fc3(t))\n",
    "        t=F.elu(self.fc4(t))\n",
    "        t=self.out(t)\n",
    "        return t\n",
    "            \n",
    "network = Network()"
   ]
  },
  {
   "cell_type": "markdown",
   "metadata": {},
   "source": [
    "#### Single image prediction"
   ]
  },
  {
   "cell_type": "code",
   "execution_count": 49,
   "metadata": {},
   "outputs": [
    {
     "name": "stdout",
     "output_type": "stream",
     "text": [
      "tensor([[-0.2269]], grad_fn=<AddmmBackward>)\n"
     ]
    }
   ],
   "source": [
    "sample=sample.reshape((1,224,224)).unsqueeze(0)\n",
    "pred= network(sample)\n",
    "print(pred)\n",
    "# sample.shape"
   ]
  },
  {
   "cell_type": "markdown",
   "metadata": {},
   "source": [
    "#### Single Image visualization after convolution"
   ]
  },
  {
   "cell_type": "code",
   "execution_count": 50,
   "metadata": {},
   "outputs": [
    {
     "name": "stderr",
     "output_type": "stream",
     "text": [
      "c:\\users\\rishabh_ub\\appdata\\local\\programs\\python\\python36\\lib\\site-packages\\ipykernel_launcher.py:1: UserWarning: To copy construct from a tensor, it is recommended to use sourceTensor.clone().detach() or sourceTensor.clone().detach().requires_grad_(True), rather than torch.tensor(sourceTensor).\n",
      "  \"\"\"Entry point for launching an IPython kernel.\n"
     ]
    },
    {
     "data": {
      "image/png": "[encoded data removed]",
      "text/plain": [
       "<Figure size 216x216 with 1 Axes>"
      ]
     },
     "metadata": {
      "needs_background": "light"
     },
     "output_type": "display_data"
    }
   ],
   "source": [
    "sample_1=torch.tensor(network.nor[0][0])\n",
    "\n",
    "\n",
    "plt.figure(figsize=(3,3))\n",
    "plt.imshow(sample_1,cmap='gray')\n",
    "img_shape=sample.shape"
   ]
  },
  {
   "cell_type": "code",
   "execution_count": 51,
   "metadata": {},
   "outputs": [
    {
     "name": "stderr",
     "output_type": "stream",
     "text": [
      "c:\\users\\rishabh_ub\\appdata\\local\\programs\\python\\python36\\lib\\site-packages\\ipykernel_launcher.py:1: UserWarning: To copy construct from a tensor, it is recommended to use sourceTensor.clone().detach() or sourceTensor.clone().detach().requires_grad_(True), rather than torch.tensor(sourceTensor).\n",
      "  \"\"\"Entry point for launching an IPython kernel.\n"
     ]
    },
    {
     "data": {
      "text/plain": [
       "<matplotlib.image.AxesImage at 0x29b28b4c1d0>"
      ]
     },
     "execution_count": 51,
     "metadata": {},
     "output_type": "execute_result"
    },
    {
     "data": {
      "image/png": "[encoded data removed]",
      "text/plain": [
       "<Figure size 216x216 with 1 Axes>"
      ]
     },
     "metadata": {
      "needs_background": "light"
     },
     "output_type": "display_data"
    }
   ],
   "source": [
    "sample_2=torch.tensor(network.nnor[0][0])\n",
    "plt.figure(figsize=(3,3))\n",
    "plt.imshow(sample_2,cmap='gray')"
   ]
  },
  {
   "cell_type": "markdown",
   "metadata": {},
   "source": [
    "#### Single batch prediction"
   ]
  },
  {
   "cell_type": "code",
   "execution_count": 136,
   "metadata": {},
   "outputs": [
    {
     "ename": "NameError",
     "evalue": "name 'd_loader' is not defined",
     "output_type": "error",
     "traceback": [
      "\u001b[1;31m---------------------------------------------------------------------------\u001b[0m",
      "\u001b[1;31mNameError\u001b[0m                                 Traceback (most recent call last)",
      "\u001b[1;32m<ipython-input-136-5c724969c18b>\u001b[0m in \u001b[0;36m<module>\u001b[1;34m\u001b[0m\n\u001b[0;32m      4\u001b[0m \u001b[0moptimizer\u001b[0m\u001b[1;33m=\u001b[0m\u001b[0moptim\u001b[0m\u001b[1;33m.\u001b[0m\u001b[0mAdam\u001b[0m\u001b[1;33m(\u001b[0m\u001b[0mnetwork\u001b[0m\u001b[1;33m.\u001b[0m\u001b[0mparameters\u001b[0m\u001b[1;33m(\u001b[0m\u001b[1;33m)\u001b[0m\u001b[1;33m,\u001b[0m\u001b[0mlr\u001b[0m\u001b[1;33m=\u001b[0m\u001b[1;36m0.01\u001b[0m\u001b[1;33m)\u001b[0m\u001b[1;33m\u001b[0m\u001b[0m\n\u001b[0;32m      5\u001b[0m \u001b[1;33m\u001b[0m\u001b[0m\n\u001b[1;32m----> 6\u001b[1;33m \u001b[0mbatch\u001b[0m\u001b[1;33m=\u001b[0m\u001b[0mnext\u001b[0m\u001b[1;33m(\u001b[0m\u001b[0miter\u001b[0m\u001b[1;33m(\u001b[0m\u001b[0md_loader\u001b[0m\u001b[1;33m)\u001b[0m\u001b[1;33m)\u001b[0m\u001b[1;33m\u001b[0m\u001b[0m\n\u001b[0m\u001b[0;32m      7\u001b[0m \u001b[0mimages\u001b[0m\u001b[1;33m,\u001b[0m\u001b[0mlabels\u001b[0m\u001b[1;33m=\u001b[0m\u001b[0mbatch\u001b[0m\u001b[1;33m\u001b[0m\u001b[0m\n\u001b[0;32m      8\u001b[0m \u001b[0mimages\u001b[0m\u001b[1;33m=\u001b[0m\u001b[0mimages\u001b[0m\u001b[1;33m.\u001b[0m\u001b[0mreshape\u001b[0m\u001b[1;33m(\u001b[0m\u001b[1;36m100\u001b[0m\u001b[1;33m,\u001b[0m\u001b[1;36m1\u001b[0m\u001b[1;33m,\u001b[0m\u001b[0mimages\u001b[0m\u001b[1;33m.\u001b[0m\u001b[0mshape\u001b[0m\u001b[1;33m[\u001b[0m\u001b[1;36m3\u001b[0m\u001b[1;33m]\u001b[0m\u001b[1;33m,\u001b[0m\u001b[0mimages\u001b[0m\u001b[1;33m.\u001b[0m\u001b[0mshape\u001b[0m\u001b[1;33m[\u001b[0m\u001b[1;36m3\u001b[0m\u001b[1;33m]\u001b[0m\u001b[1;33m)\u001b[0m\u001b[1;33m\u001b[0m\u001b[0m\n",
      "\u001b[1;31mNameError\u001b[0m: name 'd_loader' is not defined"
     ]
    }
   ],
   "source": [
    "ls=nn.MSELoss()\n",
    "\n",
    "# t_loader=torch.utils.data.DataLoader(train,batch_size=100)\n",
    "optimizer=optim.Adam(network.parameters(),lr=0.01)\n",
    "\n",
    "batch=next(iter(d_loader))\n",
    "images,labels=batch\n",
    "images=images.reshape(100,1,images.shape[3],images.shape[3])\n",
    "# labels=labels.type(torch.LongTensor)\n",
    "\n",
    "preds = network(images) # Pass Batch\n",
    "print(preds.type())\n",
    "print(labels)\n",
    "\n",
    "loss =ls(preds, labels) # Calculate Loss\n",
    "loss.item()\n",
    "optimizer.zero_grad()\n",
    "loss.backward() # Calculate Gradients\n",
    "optimizer.step() # Update Weights\n",
    "loss.item()"
   ]
  },
  {
   "cell_type": "code",
   "execution_count": 48,
   "metadata": {},
   "outputs": [
    {
     "name": "stdout",
     "output_type": "stream",
     "text": [
      "307.49273681640625\n",
      "307.63348630070686\n",
      "307.784705221653\n",
      "307.9650471061468\n",
      "308.1509379297495\n",
      "308.30609311163425\n",
      "308.4765585064888\n",
      "308.64476631581783\n",
      "308.82607351243496\n",
      "309.0235431790352\n",
      "309.16372863948345\n",
      "309.3348546475172\n",
      "309.4886029660702\n",
      "309.64995308220387\n",
      "309.84817519783974\n",
      "310.0038583576679\n",
      "310.15772327780724\n",
      "310.2913776934147\n",
      "310.4555839896202\n",
      "310.6349160820246\n",
      "310.813852712512\n",
      "310.96891301870346\n",
      "311.1345024853945\n",
      "311.3025272041559\n",
      "311.4789804816246\n",
      "311.62937730550766\n",
      "311.81161583960056\n",
      "311.9497768431902\n",
      "312.1451885700226\n",
      "312.30903612077236\n",
      "312.46319311857224\n",
      "312.64241313934326\n",
      "312.82848466932774\n",
      "313.02030569314957\n",
      "313.1668216586113\n",
      "313.33329406380653\n",
      "313.5193675905466\n",
      "313.69301357865334\n",
      "313.8905732035637\n",
      "314.0518222749233\n",
      "314.20724725723267\n",
      "314.37935768067837\n",
      "314.5470322072506\n",
      "314.7013613432646\n",
      "314.8818298429251\n",
      "315.0631861835718\n",
      "315.1959769129753\n",
      "315.37965616583824\n",
      "315.5514449775219\n",
      "315.72018636763096\n",
      "315.85693860054016\n",
      "316.0150846391916\n",
      "316.1431719362736\n",
      "316.29926757514477\n",
      "316.4284870028496\n",
      "316.59892252087593\n",
      "316.738124743104\n",
      "316.8747561722994\n",
      "317.01130606234074\n",
      "317.1861894875765\n",
      "317.33916860818863\n",
      "317.48348620533943\n",
      "317.6286659389734\n",
      "317.7698506861925\n",
      "317.91311663389206\n",
      "318.07168060541153\n",
      "318.2250582128763\n",
      "318.3758784979582\n",
      "318.53956888616085\n",
      "318.7135419547558\n",
      "318.84376338124275\n",
      "319.0123188942671\n",
      "319.1500332504511\n",
      "319.32082986831665\n",
      "319.4788661748171\n",
      "319.6042877882719\n",
      "319.77158322930336\n",
      "319.92532590031624\n",
      "320.08221903443336\n",
      "320.1968782246113\n",
      "320.35354743897915\n",
      "320.50728948414326\n",
      "320.67689138650894\n",
      "320.8253944069147\n",
      "320.9601217061281\n",
      "321.1092142313719\n",
      "321.2488159388304\n",
      "321.37577007710934\n",
      "321.5284584015608\n",
      "321.6781749725342\n",
      "321.83281323313713\n",
      "321.9610786885023\n",
      "322.09355019032955\n",
      "322.2159615531564\n",
      "322.3564944937825\n",
      "322.48504050821066\n",
      "322.59794568270445\n",
      "322.75839411467314\n",
      "322.9259879812598\n",
      "323.07295136898756\n",
      "323.2401298955083\n",
      "323.41159489005804\n",
      "323.5279580131173\n",
      "323.655281893909\n",
      "323.7905318066478\n",
      "323.9331164583564\n",
      "324.0415059328079\n",
      "324.1849647164345\n",
      "324.32165852189064\n",
      "324.4351967051625\n",
      "324.56690169125795\n",
      "324.6864489540458\n",
      "324.8197663500905\n",
      "324.96321902424097\n",
      "325.09961477667093\n",
      "325.21998236328363\n",
      "325.394634090364\n",
      "325.5061618760228\n",
      "325.64827082306147\n",
      "325.7876047119498\n",
      "325.9046303257346\n",
      "326.0280447155237\n",
      "326.14915492385626\n",
      "326.2599710151553\n",
      "326.3694553747773\n",
      "326.5182314440608\n",
      "326.6372475102544\n",
      "326.7649875059724\n",
      "326.89957819133997\n",
      "327.03622775524855\n",
      "327.16777888685465\n",
      "327.26440431177616\n",
      "327.4126781076193\n",
      "327.51399186998606\n",
      "327.63913718611\n",
      "327.7358275949955\n",
      "327.85583793371916\n",
      "327.97759103775024\n",
      "328.07871755212545\n",
      "328.1941538155079\n",
      "328.29889103770256\n",
      "328.4267097860575\n",
      "328.5344889461994\n",
      "328.6662118434906\n",
      "328.7943993359804\n",
      "328.91685746610165\n",
      "329.05487275123596\n",
      "329.1733265593648\n",
      "329.2692382186651\n",
      "329.3634115308523\n",
      "329.4974045306444\n",
      "329.60649712383747\n",
      "329.72624077647924\n",
      "329.8355785086751\n",
      "329.9663732871413\n",
      "330.0973747894168\n",
      "330.2208407893777\n",
      "330.3620585426688\n",
      "330.4704098626971\n",
      "330.5813610330224\n",
      "330.72653836756945\n",
      "330.83035212755203\n",
      "330.92460598796606\n",
      "331.03959849476814\n",
      "331.1665215343237\n",
      "331.2943529486656\n",
      "331.4293158352375\n",
      "331.5525334253907\n",
      "331.6683088541031\n",
      "331.7653878554702\n",
      "331.8704646155238\n",
      "331.9947462454438\n",
      "332.083382204175\n",
      "332.19661155343056\n"
     ]
    },
    {
     "name": "stderr",
     "output_type": "stream",
     "text": [
      "c:\\users\\rishabh_ub\\appdata\\local\\programs\\python\\python36\\lib\\site-packages\\torch\\nn\\modules\\loss.py:445: UserWarning: Using a target size (torch.Size([23])) that is different to the input size (torch.Size([23, 1])). This will likely lead to incorrect results due to broadcasting. Please ensure they have the same size.\n",
      "  return F.mse_loss(input, target, reduction=self.reduction)\n"
     ]
    },
    {
     "name": "stdout",
     "output_type": "stream",
     "text": [
      "332.31586199998856\n",
      "332.31586199998856 2102\n"
     ]
    }
   ],
   "source": [
    "# t_loader=torch.utils.data.DataLoader(train,batch_size=100)\n",
    "ls=nn.MSELoss()\n",
    "optimizer=optim.Adam(network.parameters(),lr=0.01)\n",
    "\n",
    "t_loss=0\n",
    "t_correct=0\n",
    "\n",
    "for batch in d_loader:\n",
    "    images,labels=batch\n",
    "    images=images.reshape(images.shape[0],1,224,224)\n",
    "#     labels=labels.type(torch.LongTensor)\n",
    "    \n",
    "    preds=network(images)\n",
    "    loss =ls(preds, labels)\n",
    "\n",
    "    optimizer.zero_grad() ## avoid accumilation of gradients of previous loop\n",
    "    loss.backward() ############# calculate the gradients ########\n",
    "    optimizer.step() ############ update the weight #########\n",
    "    t_loss+=loss.item()\n",
    "    t_correct+=get_num_correct(preds,labels)\n",
    "    print(t_loss)\n",
    "\n",
    "print(t_loss,t_correct)"
   ]
  },
  {
   "cell_type": "markdown",
   "metadata": {},
   "source": [
    "#### Training by epocs"
   ]
  },
  {
   "cell_type": "code",
   "execution_count": 19,
   "metadata": {},
   "outputs": [
    {
     "name": "stdout",
     "output_type": "stream",
     "text": [
      "0.14569056034088135\n",
      "0.3107847720384598\n",
      "0.4713459312915802\n",
      "0.6193598061800003\n",
      "0.7635753750801086\n",
      "0.9047617316246033\n",
      "1.0515161752700806\n",
      "1.1906984001398087\n",
      "1.346390500664711\n",
      "1.4833292216062546\n",
      "1.6281169801950455\n",
      "1.761574164032936\n",
      "1.9075594395399094\n",
      "2.0496863573789597\n",
      "2.194077953696251\n",
      "2.3415472954511642\n",
      "2.484902009367943\n",
      "2.6307679414749146\n",
      "2.7720552533864975\n",
      "2.917556256055832\n",
      "3.056953012943268\n",
      "3.205280974507332\n",
      "3.349259003996849\n",
      "3.492395296692848\n",
      "3.492395296692848\n",
      "0.13807977735996246\n",
      "0.28919485211372375\n",
      "0.42346803843975067\n",
      "0.5708169192075729\n",
      "0.7155832946300507\n",
      "0.8607269674539566\n",
      "0.9980440735816956\n",
      "1.1400495916604996\n",
      "1.2815779596567154\n",
      "1.423361986875534\n",
      "1.564778134226799\n",
      "1.7105059921741486\n",
      "1.8601180166006088\n",
      "2.0031275898218155\n",
      "2.142423063516617\n",
      "2.285254031419754\n",
      "2.430085837841034\n",
      "2.5697652995586395\n",
      "2.714033305644989\n",
      "2.8528859466314316\n",
      "2.994467571377754\n",
      "3.1405020356178284\n",
      "3.282276526093483\n",
      "3.4302399903535843\n",
      "3.4302399903535843\n",
      "0.1415342539548874\n",
      "0.2848721444606781\n",
      "0.42784905433654785\n",
      "0.5652290284633636\n",
      "0.712868794798851\n",
      "0.8562744855880737\n",
      "0.9924804866313934\n",
      "1.1305347383022308\n",
      "1.2679340094327927\n",
      "1.409467801451683\n",
      "1.5534334182739258\n",
      "1.7037103176116943\n",
      "1.8493733406066895\n",
      "1.990855097770691\n",
      "2.1327378153800964\n",
      "2.275564521551132\n",
      "2.420822411775589\n",
      "2.562038078904152\n",
      "2.703490763902664\n",
      "2.8464180380105972\n",
      "2.993453949689865\n",
      "3.131604552268982\n",
      "3.273536890745163\n",
      "3.4200580716133118\n",
      "3.4200580716133118\n",
      "0.13659915328025818\n",
      "0.27821049094200134\n",
      "0.42678092420101166\n",
      "0.56479512155056\n",
      "0.7127769291400909\n",
      "0.8575407862663269\n",
      "1.0011742860078812\n",
      "1.1486390382051468\n",
      "1.2889250814914703\n",
      "1.4369873106479645\n",
      "1.580228254199028\n",
      "1.7198071777820587\n",
      "1.8565593957901\n",
      "1.9985440075397491\n",
      "2.140722781419754\n",
      "2.2862308472394943\n",
      "2.4265686869621277\n",
      "2.5622585266828537\n",
      "2.707051783800125\n",
      "2.851679891347885\n",
      "2.9944042414426804\n",
      "3.1358961164951324\n",
      "3.2752644270658493\n",
      "3.4152578562498093\n",
      "3.4152578562498093\n",
      "0.14402735233306885\n",
      "0.2901056706905365\n",
      "0.43588514626026154\n",
      "0.5731869488954544\n",
      "0.7138757258653641\n",
      "0.8606627881526947\n",
      "0.9976706057786942\n",
      "1.1349745392799377\n",
      "1.2824743837118149\n",
      "1.4276084750890732\n",
      "1.5704383850097656\n",
      "1.707483932375908\n",
      "1.8478883057832718\n",
      "1.995833158493042\n",
      "2.136179968714714\n",
      "2.2785537391901016\n",
      "2.423747420310974\n",
      "2.56106536090374\n",
      "2.708762601017952\n",
      "2.8506323099136353\n",
      "2.987929120659828\n",
      "3.13000825047493\n",
      "3.272914782166481\n",
      "3.416052371263504\n",
      "3.416052371263504\n",
      "0.1406828761100769\n",
      "0.280799001455307\n",
      "0.42493849992752075\n",
      "0.5698339194059372\n",
      "0.7113949358463287\n",
      "0.857686460018158\n",
      "1.0014142990112305\n",
      "1.1396532505750656\n",
      "1.2767302840948105\n",
      "1.4222650080919266\n",
      "1.565049633383751\n",
      "1.703602373600006\n",
      "1.8446374386548996\n",
      "1.9875486195087433\n",
      "2.1291519105434418\n",
      "2.2717183232307434\n",
      "2.418045312166214\n",
      "2.5536938905715942\n",
      "2.7007965445518494\n",
      "2.840691328048706\n",
      "2.9790555834770203\n",
      "3.1207824796438217\n",
      "3.2738944739103317\n",
      "3.41635262966156\n",
      "3.41635262966156\n",
      "0.14574234187602997\n",
      "0.2861151844263077\n",
      "0.42917463183403015\n",
      "0.5789027065038681\n",
      "0.7218212634325027\n",
      "0.8620400726795197\n",
      "1.003229483962059\n",
      "1.1456463932991028\n",
      "1.2870614379644394\n",
      "1.4275964796543121\n",
      "1.5673854798078537\n",
      "1.7089205533266068\n",
      "1.850211352109909\n",
      "1.9911417216062546\n",
      "2.1269921958446503\n",
      "2.2746853828430176\n",
      "2.414208769798279\n",
      "2.5537626147270203\n",
      "2.7011129558086395\n",
      "2.840270310640335\n",
      "2.9812432676553726\n",
      "3.1214413046836853\n",
      "3.270491987466812\n",
      "3.4173451513051987\n",
      "3.4173451513051987\n"
     ]
    }
   ],
   "source": [
    "# t_loader=torch.utils.data.DataLoader(train,batch_size=100)\n",
    "ls=nn.MSELoss()\n",
    "optimizer=optim.Adam(network.parameters(),lr=0.001)\n",
    "\n",
    "for epoch in range(7):\n",
    "    t_loss=0\n",
    "    t_correct=0\n",
    "    for batch in train_d_loader:\n",
    "        images,labels=batch\n",
    "        images=images.reshape(images.shape[0],1,224,224)\n",
    "\n",
    "        preds=network(images)\n",
    "        loss =ls(preds, labels)\n",
    "\n",
    "        optimizer.zero_grad() ## avoid accumilation of gradients of previous loop\n",
    "        loss.backward() ############# calculate the gradients ########\n",
    "        optimizer.step() ############ update the weight #########\n",
    "        t_loss+=loss.item()\n",
    "#         t_correct+=get_num_correct(preds,labels)\n",
    "        print(t_loss)\n",
    "\n",
    "    print(t_loss)"
   ]
  },
  {
   "cell_type": "code",
   "execution_count": 28,
   "metadata": {},
   "outputs": [
    {
     "name": "stdout",
     "output_type": "stream",
     "text": [
      "tensor([[-0.0813]], grad_fn=<AddmmBackward>)\n",
      "tensor(0.0500)\n"
     ]
    },
    {
     "data": {
      "image/png": "[encoded data removed]",
      "text/plain": [
       "<Figure size 360x360 with 1 Axes>"
      ]
     },
     "metadata": {
      "needs_background": "light"
     },
     "output_type": "display_data"
    }
   ],
   "source": [
    "num=0\n",
    "batch=next(iter(test_d_loader))\n",
    "img,lab=batch\n",
    "img=img.reshape(1000,1,224,224)\n",
    "\n",
    "plt.figure(figsize=(5,5))\n",
    "plt.imshow(img[num].squeeze(),cmap='gray')\n",
    "image=img[num].unsqueeze(0)\n",
    "print(network(image))\n",
    "print(lab[0])\n",
    "# liss=lab.tolist()\n",
    "# print(liss)\n",
    "# plt.hist(liss, bins=10)\n",
    "# plt.show()"
   ]
  },
  {
   "cell_type": "code",
   "execution_count": null,
   "metadata": {},
   "outputs": [],
   "source": []
  },
  {
   "cell_type": "code",
   "execution_count": null,
   "metadata": {},
   "outputs": [],
   "source": []
  }
 ],
 "metadata": {
  "kernelspec": {
   "display_name": "Python 3",
   "language": "python",
   "name": "python3"
  },
  "language_info": {
   "codemirror_mode": {
    "name": "ipython",
    "version": 3
   },
   "file_extension": ".py",
   "mimetype": "text/x-python",
   "name": "python",
   "nbconvert_exporter": "python",
   "pygments_lexer": "ipython3",
   "version": "3.6.1"
  }
 },
 "nbformat": 4,
 "nbformat_minor": 4
}
